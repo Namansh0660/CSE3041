{
 "cells": [
  {
   "cell_type": "code",
   "execution_count": 1,
   "id": "dfc0d25d",
   "metadata": {},
   "outputs": [],
   "source": [
    "import numpy as np\n",
    "import pandas as pd"
   ]
  },
  {
   "cell_type": "code",
   "execution_count": 2,
   "id": "d91c0846",
   "metadata": {},
   "outputs": [
    {
     "name": "stdout",
     "output_type": "stream",
     "text": [
      "Series([], dtype: float64)\n"
     ]
    },
    {
     "name": "stderr",
     "output_type": "stream",
     "text": [
      "C:\\Windows\\TEMP/ipykernel_12696/3252700383.py:1: DeprecationWarning: The default dtype for empty Series will be 'object' instead of 'float64' in a future version. Specify a dtype explicitly to silence this warning.\n",
      "  ser = pd.Series()\n"
     ]
    }
   ],
   "source": [
    "ser = pd.Series()\n",
    "print(ser)"
   ]
  },
  {
   "cell_type": "code",
   "execution_count": 3,
   "id": "03b45206",
   "metadata": {},
   "outputs": [
    {
     "name": "stdout",
     "output_type": "stream",
     "text": [
      "Pandas Series:\n",
      " 0    p\n",
      "1    y\n",
      "2    t\n",
      "3    h\n",
      "4    o\n",
      "5    n\n",
      "dtype: object\n"
     ]
    }
   ],
   "source": [
    "data = np.array(['p', 'y', 't', 'h', 'o', 'n']) \n",
    "ser = pd.Series(data) \n",
    "print(\"Pandas Series:\\n\", ser)"
   ]
  },
  {
   "cell_type": "code",
   "execution_count": 4,
   "id": "074749aa",
   "metadata": {},
   "outputs": [
    {
     "name": "stdout",
     "output_type": "stream",
     "text": [
      "0    p\n",
      "1    y\n",
      "2    t\n",
      "3    h\n",
      "4    o\n",
      "5    n\n",
      "dtype: object\n"
     ]
    }
   ],
   "source": [
    "ls=['p','y','t','h','o','n']\n",
    "ser=pd.Series(ls)\n",
    "print(ser)"
   ]
  },
  {
   "cell_type": "code",
   "execution_count": 5,
   "id": "986afad3",
   "metadata": {},
   "outputs": [
    {
     "data": {
      "text/plain": [
       "Maths             100\n",
       "Science            98\n",
       "Social science     87\n",
       "Language           89\n",
       "dtype: int64"
      ]
     },
     "execution_count": 5,
     "metadata": {},
     "output_type": "execute_result"
    }
   ],
   "source": [
    "subj=[\"Maths\",\"Science\",\"Social science\",\"Language\"]\n",
    "marks=[100,98,87,89]\n",
    "pd.Series(marks, index=subj)"
   ]
  },
  {
   "cell_type": "code",
   "execution_count": 6,
   "id": "ad573ffa",
   "metadata": {},
   "outputs": [
    {
     "data": {
      "text/plain": [
       "Maths             100\n",
       "Science            98\n",
       "Social Science     87\n",
       "Language           89\n",
       "dtype: int64"
      ]
     },
     "execution_count": 6,
     "metadata": {},
     "output_type": "execute_result"
    }
   ],
   "source": [
    "sub_mark={\"Maths\":100,\"Science\":98,\"Social Science\":87,\"Language\":89}\n",
    "pd.Series(sub_mark)"
   ]
  },
  {
   "cell_type": "code",
   "execution_count": 7,
   "id": "8ad8daac",
   "metadata": {},
   "outputs": [
    {
     "data": {
      "text/plain": [
       "Maths               100.0\n",
       "Science              98.0\n",
       "Social Science       87.0\n",
       "Computer science      NaN\n",
       "dtype: float64"
      ]
     },
     "execution_count": 7,
     "metadata": {},
     "output_type": "execute_result"
    }
   ],
   "source": [
    "subj=[\"Maths\",\"Science\",\"Social Science\",\"Computer science\"]\n",
    "mark_series=pd.Series(sub_mark,index=subj)\n",
    "mark_series"
   ]
  },
  {
   "cell_type": "code",
   "execution_count": 9,
   "id": "b48b5e40",
   "metadata": {},
   "outputs": [
    {
     "data": {
      "text/plain": [
       "Maths               False\n",
       "Science             False\n",
       "Social Science      False\n",
       "Computer science     True\n",
       "dtype: bool"
      ]
     },
     "execution_count": 9,
     "metadata": {},
     "output_type": "execute_result"
    }
   ],
   "source": [
    "mark_series.isnull()"
   ]
  },
  {
   "cell_type": "code",
   "execution_count": 10,
   "id": "0112bed6",
   "metadata": {},
   "outputs": [
    {
     "data": {
      "text/plain": [
       "Maths                True\n",
       "Science              True\n",
       "Social Science       True\n",
       "Computer science    False\n",
       "dtype: bool"
      ]
     },
     "execution_count": 10,
     "metadata": {},
     "output_type": "execute_result"
    }
   ],
   "source": [
    "mark_series.notnull()"
   ]
  },
  {
   "cell_type": "code",
   "execution_count": 11,
   "id": "feb478f9",
   "metadata": {},
   "outputs": [
    {
     "data": {
      "text/plain": [
       "Maths      100.0\n",
       "Science     98.0\n",
       "dtype: float64"
      ]
     },
     "execution_count": 11,
     "metadata": {},
     "output_type": "execute_result"
    }
   ],
   "source": [
    "mark_series[mark_series>90]"
   ]
  },
  {
   "cell_type": "code",
   "execution_count": 12,
   "id": "c1183ef5",
   "metadata": {},
   "outputs": [
    {
     "data": {
      "text/plain": [
       "Maths               100.0\n",
       "Science              98.0\n",
       "Social Science       87.0\n",
       "Computer science      NaN\n",
       "dtype: float64"
      ]
     },
     "execution_count": 12,
     "metadata": {},
     "output_type": "execute_result"
    }
   ],
   "source": [
    "mark_series.sort_values(ascending=False)"
   ]
  },
  {
   "cell_type": "code",
   "execution_count": 13,
   "id": "177c6cf3",
   "metadata": {},
   "outputs": [
    {
     "data": {
      "text/plain": [
       "Maths               1.0\n",
       "Science             2.0\n",
       "Social Science      3.0\n",
       "Computer science    NaN\n",
       "dtype: float64"
      ]
     },
     "execution_count": 13,
     "metadata": {},
     "output_type": "execute_result"
    }
   ],
   "source": [
    "mark_series.rank(ascending=False)"
   ]
  },
  {
   "cell_type": "code",
   "execution_count": 15,
   "id": "163154dd",
   "metadata": {},
   "outputs": [
    {
     "data": {
      "text/plain": [
       "285.0"
      ]
     },
     "execution_count": 15,
     "metadata": {},
     "output_type": "execute_result"
    }
   ],
   "source": [
    "mark_series.sum()"
   ]
  },
  {
   "cell_type": "code",
   "execution_count": 16,
   "id": "7d9b5e58",
   "metadata": {},
   "outputs": [
    {
     "data": {
      "text/plain": [
       "95.0"
      ]
     },
     "execution_count": 16,
     "metadata": {},
     "output_type": "execute_result"
    }
   ],
   "source": [
    "mark_series.mean()"
   ]
  },
  {
   "cell_type": "code",
   "execution_count": 17,
   "id": "fba2361f",
   "metadata": {},
   "outputs": [
    {
     "data": {
      "text/plain": [
       "98.0"
      ]
     },
     "execution_count": 17,
     "metadata": {},
     "output_type": "execute_result"
    }
   ],
   "source": [
    "mark_series.median()"
   ]
  },
  {
   "cell_type": "code",
   "execution_count": 18,
   "id": "3aace991",
   "metadata": {},
   "outputs": [
    {
     "data": {
      "text/plain": [
       "7.0"
      ]
     },
     "execution_count": 18,
     "metadata": {},
     "output_type": "execute_result"
    }
   ],
   "source": [
    "mark_series.std()"
   ]
  },
  {
   "cell_type": "code",
   "execution_count": 19,
   "id": "50ce6c6e",
   "metadata": {},
   "outputs": [
    {
     "data": {
      "text/plain": [
       "100.0"
      ]
     },
     "execution_count": 19,
     "metadata": {},
     "output_type": "execute_result"
    }
   ],
   "source": [
    "mark_series.max()"
   ]
  },
  {
   "cell_type": "code",
   "execution_count": 20,
   "id": "55d5202f",
   "metadata": {},
   "outputs": [
    {
     "data": {
      "text/plain": [
       "'Maths'"
      ]
     },
     "execution_count": 20,
     "metadata": {},
     "output_type": "execute_result"
    }
   ],
   "source": [
    "mark_series.idxmax()"
   ]
  },
  {
   "cell_type": "code",
   "execution_count": 21,
   "id": "3ae0a593",
   "metadata": {},
   "outputs": [
    {
     "data": {
      "text/plain": [
       "87.0"
      ]
     },
     "execution_count": 21,
     "metadata": {},
     "output_type": "execute_result"
    }
   ],
   "source": [
    "mark_series.min()"
   ]
  },
  {
   "cell_type": "code",
   "execution_count": 22,
   "id": "5ad46d7c",
   "metadata": {},
   "outputs": [
    {
     "data": {
      "text/plain": [
       "'Social Science'"
      ]
     },
     "execution_count": 22,
     "metadata": {},
     "output_type": "execute_result"
    }
   ],
   "source": [
    "mark_series.idxmin()"
   ]
  },
  {
   "cell_type": "code",
   "execution_count": 23,
   "id": "1cf85654",
   "metadata": {},
   "outputs": [
    {
     "data": {
      "text/plain": [
       "3"
      ]
     },
     "execution_count": 23,
     "metadata": {},
     "output_type": "execute_result"
    }
   ],
   "source": [
    "mark_series.count()"
   ]
  },
  {
   "cell_type": "code",
   "execution_count": 24,
   "id": "40c98f42",
   "metadata": {},
   "outputs": [
    {
     "data": {
      "text/plain": [
       "count      3.0\n",
       "mean      95.0\n",
       "std        7.0\n",
       "min       87.0\n",
       "25%       92.5\n",
       "50%       98.0\n",
       "75%       99.0\n",
       "max      100.0\n",
       "dtype: float64"
      ]
     },
     "execution_count": 24,
     "metadata": {},
     "output_type": "execute_result"
    }
   ],
   "source": [
    "mark_series.describe()"
   ]
  },
  {
   "cell_type": "code",
   "execution_count": 25,
   "id": "da989fe9",
   "metadata": {},
   "outputs": [
    {
     "data": {
      "text/plain": [
       "array([100.,  98.,  87.,  nan])"
      ]
     },
     "execution_count": 25,
     "metadata": {},
     "output_type": "execute_result"
    }
   ],
   "source": [
    "mark_series.unique()"
   ]
  },
  {
   "cell_type": "code",
   "execution_count": 26,
   "id": "40a93a1b",
   "metadata": {},
   "outputs": [
    {
     "data": {
      "text/plain": [
       "3"
      ]
     },
     "execution_count": 26,
     "metadata": {},
     "output_type": "execute_result"
    }
   ],
   "source": [
    "mark_series.nunique()"
   ]
  },
  {
   "cell_type": "code",
   "execution_count": 27,
   "id": "542381f8",
   "metadata": {},
   "outputs": [
    {
     "data": {
      "text/plain": [
       "100.0    1\n",
       "98.0     1\n",
       "87.0     1\n",
       "dtype: int64"
      ]
     },
     "execution_count": 27,
     "metadata": {},
     "output_type": "execute_result"
    }
   ],
   "source": [
    "mark_series.value_counts()"
   ]
  },
  {
   "cell_type": "code",
   "execution_count": 28,
   "id": "11d05aea",
   "metadata": {},
   "outputs": [
    {
     "data": {
      "text/plain": [
       "Maths             100.0\n",
       "Science            98.0\n",
       "Social Science     87.0\n",
       "dtype: float64"
      ]
     },
     "execution_count": 28,
     "metadata": {},
     "output_type": "execute_result"
    }
   ],
   "source": [
    "mark_series.dropna()"
   ]
  },
  {
   "cell_type": "code",
   "execution_count": 29,
   "id": "04ffed83",
   "metadata": {},
   "outputs": [],
   "source": [
    "mark_series.dropna(inplace=True)"
   ]
  },
  {
   "cell_type": "code",
   "execution_count": 30,
   "id": "b2618454",
   "metadata": {},
   "outputs": [
    {
     "data": {
      "text/plain": [
       "Maths             100.0\n",
       "Science            98.0\n",
       "Social Science     87.0\n",
       "dtype: float64"
      ]
     },
     "execution_count": 30,
     "metadata": {},
     "output_type": "execute_result"
    }
   ],
   "source": [
    "mark_series"
   ]
  },
  {
   "cell_type": "code",
   "execution_count": 31,
   "id": "597dd7f6",
   "metadata": {},
   "outputs": [
    {
     "data": {
      "text/plain": [
       "Maths      100.0\n",
       "Science     98.0\n",
       "dtype: float64"
      ]
     },
     "execution_count": 31,
     "metadata": {},
     "output_type": "execute_result"
    }
   ],
   "source": [
    "mark_series[:2]"
   ]
  },
  {
   "cell_type": "code",
   "execution_count": 34,
   "id": "12aec6cd",
   "metadata": {},
   "outputs": [
    {
     "data": {
      "text/plain": [
       "5     p\n",
       "10    y\n",
       "15    t\n",
       "20    h\n",
       "25    0\n",
       "30    n\n",
       "dtype: object"
      ]
     },
     "execution_count": 34,
     "metadata": {},
     "output_type": "execute_result"
    }
   ],
   "source": [
    "data=np.array(['p','y','t','h','0','n'])\n",
    "ser=pd.Series(data,index=[5,10,15,20,25,30])\n",
    "ser"
   ]
  },
  {
   "cell_type": "code",
   "execution_count": 35,
   "id": "16bf3302",
   "metadata": {},
   "outputs": [
    {
     "data": {
      "text/plain": [
       "'t'"
      ]
     },
     "execution_count": 35,
     "metadata": {},
     "output_type": "execute_result"
    }
   ],
   "source": [
    "ser.iloc[2]"
   ]
  },
  {
   "cell_type": "code",
   "execution_count": 36,
   "id": "b7e1fd80",
   "metadata": {},
   "outputs": [
    {
     "data": {
      "text/plain": [
       "'t'"
      ]
     },
     "execution_count": 36,
     "metadata": {},
     "output_type": "execute_result"
    }
   ],
   "source": [
    "ser.loc[15]"
   ]
  },
  {
   "cell_type": "code",
   "execution_count": 37,
   "id": "a16777d6",
   "metadata": {},
   "outputs": [
    {
     "data": {
      "text/plain": [
       "98.0"
      ]
     },
     "execution_count": 37,
     "metadata": {},
     "output_type": "execute_result"
    }
   ],
   "source": [
    "mark_series.iloc[1]"
   ]
  },
  {
   "cell_type": "code",
   "execution_count": 38,
   "id": "6fc396d6",
   "metadata": {},
   "outputs": [
    {
     "data": {
      "text/plain": [
       "98.0"
      ]
     },
     "execution_count": 38,
     "metadata": {},
     "output_type": "execute_result"
    }
   ],
   "source": [
    "mark_series.loc[\"Science\"]\n"
   ]
  },
  {
   "cell_type": "code",
   "execution_count": 39,
   "id": "ff257ee1",
   "metadata": {},
   "outputs": [
    {
     "data": {
      "text/plain": [
       "Maths      100.0\n",
       "Science     98.0\n",
       "dtype: float64"
      ]
     },
     "execution_count": 39,
     "metadata": {},
     "output_type": "execute_result"
    }
   ],
   "source": [
    "mark_series.iloc[:2]\n"
   ]
  },
  {
   "cell_type": "code",
   "execution_count": 40,
   "id": "7973ce02",
   "metadata": {},
   "outputs": [
    {
     "data": {
      "text/plain": [
       "Maths             100.0\n",
       "Science            98.0\n",
       "Social Science     87.0\n",
       "dtype: float64"
      ]
     },
     "execution_count": 40,
     "metadata": {},
     "output_type": "execute_result"
    }
   ],
   "source": [
    "mark_series.loc[:\"Social Science\"]"
   ]
  },
  {
   "cell_type": "code",
   "execution_count": 41,
   "id": "897eeb3d",
   "metadata": {},
   "outputs": [
    {
     "name": "stdout",
     "output_type": "stream",
     "text": [
      "Empty DataFrame\n",
      "Columns: []\n",
      "Index: []\n"
     ]
    }
   ],
   "source": [
    "df1 = pd.DataFrame()\n",
    "print(df1)"
   ]
  },
  {
   "cell_type": "code",
   "execution_count": 42,
   "id": "4ec97336",
   "metadata": {},
   "outputs": [
    {
     "name": "stdout",
     "output_type": "stream",
     "text": [
      "Dataframe:\n",
      "    0\n",
      "0  16\n",
      "1  26\n",
      "2  36\n",
      "3  46\n",
      "4  56\n",
      "5  66\n",
      "6  76\n",
      "7  86\n",
      "8  96\n"
     ]
    }
   ],
   "source": [
    "data = [16,26,36,46,56,66,76,86,96] \n",
    "df2 = pd.DataFrame(data) \n",
    "print(\"Dataframe:\") \n",
    "print(df2) "
   ]
  },
  {
   "cell_type": "code",
   "execution_count": 43,
   "id": "aa25f0aa",
   "metadata": {},
   "outputs": [
    {
     "name": "stdout",
     "output_type": "stream",
     "text": [
      "    Name  Age\n",
      "0   Sree   20\n",
      "1  Priya    4\n",
      "2  Payal   10\n",
      "3    Ram   13\n",
      "4   John   22\n"
     ]
    }
   ],
   "source": [
    "data3 = [['Sree',20],['Priya',4],['Payal',10], ['Ram', 13], ['John', 22]]\n",
    "df3 = pd.DataFrame(data3,columns=['Name','Age'])\n",
    "print(df3)"
   ]
  },
  {
   "cell_type": "code",
   "execution_count": 44,
   "id": "01b84582",
   "metadata": {},
   "outputs": [
    {
     "name": "stdout",
     "output_type": "stream",
     "text": [
      "    name  Age\n",
      "0   Sree   20\n",
      "1  Priya    4\n",
      "2  Payal   10\n",
      "3    Ram   13\n",
      "4   John   22\n"
     ]
    }
   ],
   "source": [
    "data2 = {'name':[\"Sree\",\"Priya\", \"Payal\", \"Ram\", \"John\"], 'Age':[20,4,10,13,22]}\n",
    "df3 = pd.DataFrame(data2)\n",
    "print(df3)"
   ]
  },
  {
   "cell_type": "code",
   "execution_count": 45,
   "id": "6739b383",
   "metadata": {},
   "outputs": [
    {
     "name": "stdout",
     "output_type": "stream",
     "text": [
      "       0        1               2                 3\n",
      "0  Maths  Science  Social Science  Computer science\n",
      "1    100       98              87                89\n",
      "2      A        A               B                 B\n",
      "           0        1               2                 3\n",
      "subj   Maths  Science  Social Science  Computer science\n",
      "marks    100       98              87                89\n",
      "grade      A        A               B                 B\n",
      "               subj marks grade\n",
      "0             Maths   100     A\n",
      "1           Science    98     A\n",
      "2    Social Science    87     B\n",
      "3  Computer science    89     B\n"
     ]
    }
   ],
   "source": [
    "subj=pd.Series([\"Maths\",\"Science\",\"Social Science\",\"Computer science\"])\n",
    "marks=pd.Series([100,98,87,89])\n",
    "grade=pd.Series(('A','A','B','B'))\n",
    "df=pd.DataFrame([subj,marks,grade])\n",
    "print(df)\n",
    "df=pd.DataFrame([subj,marks,grade],index=['subj','marks','grade'])\n",
    "print(df)\n",
    "df=pd.DataFrame([subj,marks,grade],index=['subj','marks','grade']).T\n",
    "print(df)"
   ]
  },
  {
   "cell_type": "code",
   "execution_count": 50,
   "id": "cf22e1d3",
   "metadata": {},
   "outputs": [
    {
     "name": "stdout",
     "output_type": "stream",
     "text": [
      "   month  avg_low  avg_high  record_high  record_low  avg_preci\n",
      "0    Jan       58        42           74          22       2.95\n",
      "1    Feb       61        45           78          26       3.02\n",
      "2    Mar       65        48           84          25       2.34\n",
      "3    Apr       67        50           92          28       1.02\n",
      "4    May       71        53           98          35       0.48\n",
      "5    Jun       75        56          107          41       0.11\n",
      "6    Jul       77        58          105          44       0.00\n",
      "7    Aug       77        59          102          43       0.03\n",
      "8    Sep       77        57          103          40       0.17\n",
      "9    Oct       73        54           96          34       0.81\n",
      "10   Nov       64        48           84          30       1.70\n",
      "11   Dec       58        42           73          21       2.56\n"
     ]
    }
   ],
   "source": [
    "df=pd.DataFrame([['Jan', 58, 42, 74, 22, 2.95],['Feb', 61, 45, 78, 26, 3.02],['Mar', 65, 48, 84, 25, 2.34],['Apr', 67, 50, 92, 28, 1.02],['May', 71, 53, 98, 35, 0.48],['Jun', 75, 56, 107, 41, 0.11],['Jul', 77, 58, 105, 44, 0.0],['Aug', 77, 59, 102, 43, 0.03],['Sep', 77, 57, 103, 40, 0.17],['Oct', 73, 54, 96, 34, 0.81],['Nov', 64, 48, 84, 30, 1.7],['Dec', 58, 42, 73, 21, 2.56]],index=[0,1,2,3,4,5,6,7,8,9,10,11],columns=['month','avg_low','avg_high','record_high','record_low','avg_preci'])\n",
    "print(df)"
   ]
  },
  {
   "cell_type": "code",
   "execution_count": null,
   "id": "f841d71e",
   "metadata": {},
   "outputs": [],
   "source": []
  }
 ],
 "metadata": {
  "kernelspec": {
   "display_name": "Python 3 (ipykernel)",
   "language": "python",
   "name": "python3"
  },
  "language_info": {
   "codemirror_mode": {
    "name": "ipython",
    "version": 3
   },
   "file_extension": ".py",
   "mimetype": "text/x-python",
   "name": "python",
   "nbconvert_exporter": "python",
   "pygments_lexer": "ipython3",
   "version": "3.9.7"
  }
 },
 "nbformat": 4,
 "nbformat_minor": 5
}
