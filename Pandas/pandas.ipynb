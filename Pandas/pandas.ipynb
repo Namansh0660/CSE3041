{
 "cells": [
  {
   "cell_type": "code",
   "execution_count": 1,
   "id": "82653c94",
   "metadata": {},
   "outputs": [],
   "source": [
    "import numpy as np\n",
    "import pandas as pd"
   ]
  },
  {
   "cell_type": "code",
   "execution_count": 2,
   "id": "d317cf32",
   "metadata": {},
   "outputs": [
    {
     "name": "stdout",
     "output_type": "stream",
     "text": [
      "Series([], dtype: float64)\n"
     ]
    },
    {
     "name": "stderr",
     "output_type": "stream",
     "text": [
      "C:\\Windows\\TEMP/ipykernel_12696/3252700383.py:1: DeprecationWarning: The default dtype for empty Series will be 'object' instead of 'float64' in a future version. Specify a dtype explicitly to silence this warning.\n",
      "  ser = pd.Series()\n"
     ]
    }
   ],
   "source": [
    "ser = pd.Series()\n",
    "print(ser)"
   ]
  },
  {
   "cell_type": "code",
   "execution_count": 3,
   "id": "c9a9ee23",
   "metadata": {},
   "outputs": [
    {
     "name": "stdout",
     "output_type": "stream",
     "text": [
      "Pandas Series:\n",
      " 0    p\n",
      "1    y\n",
      "2    t\n",
      "3    h\n",
      "4    o\n",
      "5    n\n",
      "dtype: object\n"
     ]
    }
   ],
   "source": [
    "data = np.array(['p', 'y', 't', 'h', 'o', 'n']) \n",
    "ser = pd.Series(data) \n",
    "print(\"Pandas Series:\\n\", ser)"
   ]
  },
  {
   "cell_type": "code",
   "execution_count": 4,
   "id": "64fdb13e",
   "metadata": {},
   "outputs": [
    {
     "name": "stdout",
     "output_type": "stream",
     "text": [
      "0    p\n",
      "1    y\n",
      "2    t\n",
      "3    h\n",
      "4    o\n",
      "5    n\n",
      "dtype: object\n"
     ]
    }
   ],
   "source": [
    "ls=['p','y','t','h','o','n']\n",
    "ser=pd.Series(ls)\n",
    "print(ser)"
   ]
  },
  {
   "cell_type": "code",
   "execution_count": 5,
   "id": "c21f0740",
   "metadata": {},
   "outputs": [
    {
     "data": {
      "text/plain": [
       "Maths             100\n",
       "Science            98\n",
       "Social science     87\n",
       "Language           89\n",
       "dtype: int64"
      ]
     },
     "execution_count": 5,
     "metadata": {},
     "output_type": "execute_result"
    }
   ],
   "source": [
    "subj=[\"Maths\",\"Science\",\"Social science\",\"Language\"]\n",
    "marks=[100,98,87,89]\n",
    "pd.Series(marks, index=subj)"
   ]
  },
  {
   "cell_type": "code",
   "execution_count": 6,
   "id": "a1d6336e",
   "metadata": {},
   "outputs": [
    {
     "data": {
      "text/plain": [
       "Maths             100\n",
       "Science            98\n",
       "Social Science     87\n",
       "Language           89\n",
       "dtype: int64"
      ]
     },
     "execution_count": 6,
     "metadata": {},
     "output_type": "execute_result"
    }
   ],
   "source": [
    "sub_mark={\"Maths\":100,\"Science\":98,\"Social Science\":87,\"Language\":89}\n",
    "pd.Series(sub_mark)"
   ]
  },
  {
   "cell_type": "code",
   "execution_count": 7,
   "id": "bfb4da1f",
   "metadata": {},
   "outputs": [
    {
     "data": {
      "text/plain": [
       "Maths               100.0\n",
       "Science              98.0\n",
       "Social Science       87.0\n",
       "Computer science      NaN\n",
       "dtype: float64"
      ]
     },
     "execution_count": 7,
     "metadata": {},
     "output_type": "execute_result"
    }
   ],
   "source": [
    "subj=[\"Maths\",\"Science\",\"Social Science\",\"Computer science\"]\n",
    "mark_series=pd.Series(sub_mark,index=subj)\n",
    "mark_series"
   ]
  },
  {
   "cell_type": "code",
   "execution_count": 9,
   "id": "4a60b6cb",
   "metadata": {},
   "outputs": [
    {
     "data": {
      "text/plain": [
       "Maths               False\n",
       "Science             False\n",
       "Social Science      False\n",
       "Computer science     True\n",
       "dtype: bool"
      ]
     },
     "execution_count": 9,
     "metadata": {},
     "output_type": "execute_result"
    }
   ],
   "source": [
    "mark_series.isnull()"
   ]
  },
  {
   "cell_type": "code",
   "execution_count": 10,
   "id": "41555f9c",
   "metadata": {},
   "outputs": [
    {
     "data": {
      "text/plain": [
       "Maths                True\n",
       "Science              True\n",
       "Social Science       True\n",
       "Computer science    False\n",
       "dtype: bool"
      ]
     },
     "execution_count": 10,
     "metadata": {},
     "output_type": "execute_result"
    }
   ],
   "source": [
    "mark_series.notnull()"
   ]
  },
  {
   "cell_type": "code",
   "execution_count": 11,
   "id": "8d92f9bc",
   "metadata": {},
   "outputs": [
    {
     "data": {
      "text/plain": [
       "Maths      100.0\n",
       "Science     98.0\n",
       "dtype: float64"
      ]
     },
     "execution_count": 11,
     "metadata": {},
     "output_type": "execute_result"
    }
   ],
   "source": [
    "mark_series[mark_series>90]"
   ]
  },
  {
   "cell_type": "code",
   "execution_count": 12,
   "id": "6a0cb850",
   "metadata": {},
   "outputs": [
    {
     "data": {
      "text/plain": [
       "Maths               100.0\n",
       "Science              98.0\n",
       "Social Science       87.0\n",
       "Computer science      NaN\n",
       "dtype: float64"
      ]
     },
     "execution_count": 12,
     "metadata": {},
     "output_type": "execute_result"
    }
   ],
   "source": [
    "mark_series.sort_values(ascending=False)"
   ]
  },
  {
   "cell_type": "code",
   "execution_count": 13,
   "id": "df22c2c3",
   "metadata": {},
   "outputs": [
    {
     "data": {
      "text/plain": [
       "Maths               1.0\n",
       "Science             2.0\n",
       "Social Science      3.0\n",
       "Computer science    NaN\n",
       "dtype: float64"
      ]
     },
     "execution_count": 13,
     "metadata": {},
     "output_type": "execute_result"
    }
   ],
   "source": [
    "mark_series.rank(ascending=False)"
   ]
  },
  {
   "cell_type": "code",
   "execution_count": 15,
   "id": "dd2d2584",
   "metadata": {},
   "outputs": [
    {
     "data": {
      "text/plain": [
       "285.0"
      ]
     },
     "execution_count": 15,
     "metadata": {},
     "output_type": "execute_result"
    }
   ],
   "source": [
    "mark_series.sum()"
   ]
  },
  {
   "cell_type": "code",
   "execution_count": 16,
   "id": "6b01fd61",
   "metadata": {},
   "outputs": [
    {
     "data": {
      "text/plain": [
       "95.0"
      ]
     },
     "execution_count": 16,
     "metadata": {},
     "output_type": "execute_result"
    }
   ],
   "source": [
    "mark_series.mean()"
   ]
  },
  {
   "cell_type": "code",
   "execution_count": 17,
   "id": "858a9c1e",
   "metadata": {},
   "outputs": [
    {
     "data": {
      "text/plain": [
       "98.0"
      ]
     },
     "execution_count": 17,
     "metadata": {},
     "output_type": "execute_result"
    }
   ],
   "source": [
    "mark_series.median()"
   ]
  },
  {
   "cell_type": "code",
   "execution_count": 18,
   "id": "15764b4d",
   "metadata": {},
   "outputs": [
    {
     "data": {
      "text/plain": [
       "7.0"
      ]
     },
     "execution_count": 18,
     "metadata": {},
     "output_type": "execute_result"
    }
   ],
   "source": [
    "mark_series.std()"
   ]
  },
  {
   "cell_type": "code",
   "execution_count": 19,
   "id": "2deacdc2",
   "metadata": {},
   "outputs": [
    {
     "data": {
      "text/plain": [
       "100.0"
      ]
     },
     "execution_count": 19,
     "metadata": {},
     "output_type": "execute_result"
    }
   ],
   "source": [
    "mark_series.max()"
   ]
  },
  {
   "cell_type": "code",
   "execution_count": 20,
   "id": "85d4c716",
   "metadata": {},
   "outputs": [
    {
     "data": {
      "text/plain": [
       "'Maths'"
      ]
     },
     "execution_count": 20,
     "metadata": {},
     "output_type": "execute_result"
    }
   ],
   "source": [
    "mark_series.idxmax()"
   ]
  },
  {
   "cell_type": "code",
   "execution_count": 21,
   "id": "b7acf018",
   "metadata": {},
   "outputs": [
    {
     "data": {
      "text/plain": [
       "87.0"
      ]
     },
     "execution_count": 21,
     "metadata": {},
     "output_type": "execute_result"
    }
   ],
   "source": [
    "mark_series.min()"
   ]
  },
  {
   "cell_type": "code",
   "execution_count": 22,
   "id": "4c1e24a2",
   "metadata": {},
   "outputs": [
    {
     "data": {
      "text/plain": [
       "'Social Science'"
      ]
     },
     "execution_count": 22,
     "metadata": {},
     "output_type": "execute_result"
    }
   ],
   "source": [
    "mark_series.idxmin()"
   ]
  },
  {
   "cell_type": "code",
   "execution_count": 23,
   "id": "7ae67c3e",
   "metadata": {},
   "outputs": [
    {
     "data": {
      "text/plain": [
       "3"
      ]
     },
     "execution_count": 23,
     "metadata": {},
     "output_type": "execute_result"
    }
   ],
   "source": [
    "mark_series.count()"
   ]
  },
  {
   "cell_type": "code",
   "execution_count": 24,
   "id": "111f671e",
   "metadata": {},
   "outputs": [
    {
     "data": {
      "text/plain": [
       "count      3.0\n",
       "mean      95.0\n",
       "std        7.0\n",
       "min       87.0\n",
       "25%       92.5\n",
       "50%       98.0\n",
       "75%       99.0\n",
       "max      100.0\n",
       "dtype: float64"
      ]
     },
     "execution_count": 24,
     "metadata": {},
     "output_type": "execute_result"
    }
   ],
   "source": [
    "mark_series.describe()"
   ]
  },
  {
   "cell_type": "code",
   "execution_count": 25,
   "id": "86659bba",
   "metadata": {},
   "outputs": [
    {
     "data": {
      "text/plain": [
       "array([100.,  98.,  87.,  nan])"
      ]
     },
     "execution_count": 25,
     "metadata": {},
     "output_type": "execute_result"
    }
   ],
   "source": [
    "mark_series.unique()"
   ]
  },
  {
   "cell_type": "code",
   "execution_count": 26,
   "id": "220e100b",
   "metadata": {},
   "outputs": [
    {
     "data": {
      "text/plain": [
       "3"
      ]
     },
     "execution_count": 26,
     "metadata": {},
     "output_type": "execute_result"
    }
   ],
   "source": [
    "mark_series.nunique()"
   ]
  },
  {
   "cell_type": "code",
   "execution_count": 27,
   "id": "8bbdeaa7",
   "metadata": {},
   "outputs": [
    {
     "data": {
      "text/plain": [
       "100.0    1\n",
       "98.0     1\n",
       "87.0     1\n",
       "dtype: int64"
      ]
     },
     "execution_count": 27,
     "metadata": {},
     "output_type": "execute_result"
    }
   ],
   "source": [
    "mark_series.value_counts()"
   ]
  },
  {
   "cell_type": "code",
   "execution_count": 28,
   "id": "2b794084",
   "metadata": {},
   "outputs": [
    {
     "data": {
      "text/plain": [
       "Maths             100.0\n",
       "Science            98.0\n",
       "Social Science     87.0\n",
       "dtype: float64"
      ]
     },
     "execution_count": 28,
     "metadata": {},
     "output_type": "execute_result"
    }
   ],
   "source": [
    "mark_series.dropna()"
   ]
  },
  {
   "cell_type": "code",
   "execution_count": 29,
   "id": "1585c61f",
   "metadata": {},
   "outputs": [],
   "source": [
    "mark_series.dropna(inplace=True)"
   ]
  },
  {
   "cell_type": "code",
   "execution_count": 30,
   "id": "aa859ed0",
   "metadata": {},
   "outputs": [
    {
     "data": {
      "text/plain": [
       "Maths             100.0\n",
       "Science            98.0\n",
       "Social Science     87.0\n",
       "dtype: float64"
      ]
     },
     "execution_count": 30,
     "metadata": {},
     "output_type": "execute_result"
    }
   ],
   "source": [
    "mark_series"
   ]
  },
  {
   "cell_type": "code",
   "execution_count": 31,
   "id": "a645eaee",
   "metadata": {},
   "outputs": [
    {
     "data": {
      "text/plain": [
       "Maths      100.0\n",
       "Science     98.0\n",
       "dtype: float64"
      ]
     },
     "execution_count": 31,
     "metadata": {},
     "output_type": "execute_result"
    }
   ],
   "source": [
    "mark_series[:2]"
   ]
  },
  {
   "cell_type": "code",
   "execution_count": 34,
   "id": "fa5c7095",
   "metadata": {},
   "outputs": [
    {
     "data": {
      "text/plain": [
       "5     p\n",
       "10    y\n",
       "15    t\n",
       "20    h\n",
       "25    0\n",
       "30    n\n",
       "dtype: object"
      ]
     },
     "execution_count": 34,
     "metadata": {},
     "output_type": "execute_result"
    }
   ],
   "source": [
    "data=np.array(['p','y','t','h','0','n'])\n",
    "ser=pd.Series(data,index=[5,10,15,20,25,30])\n",
    "ser"
   ]
  },
  {
   "cell_type": "code",
   "execution_count": 35,
   "id": "c6390a72",
   "metadata": {},
   "outputs": [
    {
     "data": {
      "text/plain": [
       "'t'"
      ]
     },
     "execution_count": 35,
     "metadata": {},
     "output_type": "execute_result"
    }
   ],
   "source": [
    "ser.iloc[2]"
   ]
  },
  {
   "cell_type": "code",
   "execution_count": 36,
   "id": "be9d7168",
   "metadata": {},
   "outputs": [
    {
     "data": {
      "text/plain": [
       "'t'"
      ]
     },
     "execution_count": 36,
     "metadata": {},
     "output_type": "execute_result"
    }
   ],
   "source": [
    "ser.loc[15]"
   ]
  },
  {
   "cell_type": "code",
   "execution_count": 37,
   "id": "91e22745",
   "metadata": {},
   "outputs": [
    {
     "data": {
      "text/plain": [
       "98.0"
      ]
     },
     "execution_count": 37,
     "metadata": {},
     "output_type": "execute_result"
    }
   ],
   "source": [
    "mark_series.iloc[1]"
   ]
  },
  {
   "cell_type": "code",
   "execution_count": 38,
   "id": "72ea5e22",
   "metadata": {},
   "outputs": [
    {
     "data": {
      "text/plain": [
       "98.0"
      ]
     },
     "execution_count": 38,
     "metadata": {},
     "output_type": "execute_result"
    }
   ],
   "source": [
    "mark_series.loc[\"Science\"]\n"
   ]
  },
  {
   "cell_type": "code",
   "execution_count": 39,
   "id": "17ec30af",
   "metadata": {},
   "outputs": [
    {
     "data": {
      "text/plain": [
       "Maths      100.0\n",
       "Science     98.0\n",
       "dtype: float64"
      ]
     },
     "execution_count": 39,
     "metadata": {},
     "output_type": "execute_result"
    }
   ],
   "source": [
    "mark_series.iloc[:2]\n"
   ]
  },
  {
   "cell_type": "code",
   "execution_count": 40,
   "id": "a323f1a8",
   "metadata": {},
   "outputs": [
    {
     "data": {
      "text/plain": [
       "Maths             100.0\n",
       "Science            98.0\n",
       "Social Science     87.0\n",
       "dtype: float64"
      ]
     },
     "execution_count": 40,
     "metadata": {},
     "output_type": "execute_result"
    }
   ],
   "source": [
    "mark_series.loc[:\"Social Science\"]"
   ]
  },
  {
   "cell_type": "code",
   "execution_count": null,
   "id": "b2d9d749",
   "metadata": {},
   "outputs": [],
   "source": []
  }
 ],
 "metadata": {
  "kernelspec": {
   "display_name": "Python 3 (ipykernel)",
   "language": "python",
   "name": "python3"
  },
  "language_info": {
   "codemirror_mode": {
    "name": "ipython",
    "version": 3
   },
   "file_extension": ".py",
   "mimetype": "text/x-python",
   "name": "python",
   "nbconvert_exporter": "python",
   "pygments_lexer": "ipython3",
   "version": "3.9.7"
  }
 },
 "nbformat": 4,
 "nbformat_minor": 5
}
